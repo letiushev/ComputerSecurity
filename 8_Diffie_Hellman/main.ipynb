{
 "cells": [
  {
   "cell_type": "code",
   "execution_count": 72,
   "metadata": {},
   "outputs": [],
   "source": [
    "# Helper functions\n",
    "def string2hex(message):\n",
    "    ret = \"\"\n",
    "    for c in message:\n",
    "        ret += hex(ord(c))[2:]\n",
    "    return ret\n",
    "\n",
    "def hex2bin(s):\n",
    "    n = int(s, 16) \n",
    "    result = ''\n",
    "    while(n > 0):\n",
    "        result = str(n % 2) + result\n",
    "        n = n >> 1    \n",
    "    return result\n",
    "\n",
    "def bin2dec(binary):\n",
    "    binary1 = int(binary)\n",
    "    decimal, i, n = 0, 0, 0\n",
    "      \n",
    "    while(binary1 != 0):\n",
    "        dec = binary1 % 10\n",
    "        decimal = decimal + dec * pow(2, i)\n",
    "        binary1 = binary1//10\n",
    "        i += 1\n",
    "    return(decimal)\n",
    "    \n",
    "def dec2hex(decimal):\n",
    "    conversion_table = {0: '0', 1: '1', 2: '2', 3: '3',\n",
    "                        4: '4', 5: '5', 6: '6', 7: '7',\n",
    "                        8: '8', 9: '9', 10: 'A', 11: 'B',\n",
    "                        12: 'C', 13: 'D', 14: 'E', 15: 'F'}\n",
    "\n",
    "    if(decimal <= 0):\n",
    "        return ''\n",
    "\n",
    "    remainder = decimal % 16\n",
    "    return dec2hex(decimal//16) + conversion_table[remainder]\n",
    "\n",
    "def hex2string(hex_message):\n",
    "    \n",
    "    ret = \"\"\n",
    "    for i in range(0, len(hex_message), 2):\n",
    "        ret += chr(int(hex_message[i:i+2], 16))\n",
    "    return ret"
   ]
  },
  {
   "cell_type": "code",
   "execution_count": 73,
   "metadata": {},
   "outputs": [
    {
     "name": "stdout",
     "output_type": "stream",
     "text": [
      "5399928\n",
      "825833013\n"
     ]
    }
   ],
   "source": [
    "# convert Rex, 1965 to decimal number\n",
    "string = \"Rex\"\n",
    "public_key2 = bin2dec(hex2bin(string2hex(string))) # String -> Hex -> Bin -> Dec\n",
    "print(public_key2)\n",
    "string2 = '1965'\n",
    "private_key1 = bin2dec(hex2bin(string2hex(string2)))\n",
    "print(private_key1)"
   ]
  },
  {
   "cell_type": "code",
   "execution_count": 74,
   "metadata": {},
   "outputs": [
    {
     "name": "stdout",
     "output_type": "stream",
     "text": [
      "578425925095371405568892112463356253556793923333715515\n"
     ]
    }
   ],
   "source": [
    "g = 3\n",
    "p = 2028857979862237691943174470742898169688801549038549581\n",
    "a = 825833013\n",
    "john_pub_key = pow(g,a,p)\n",
    "print(john_pub_key)"
   ]
  },
  {
   "cell_type": "code",
   "execution_count": 75,
   "metadata": {},
   "outputs": [
    {
     "name": "stdout",
     "output_type": "stream",
     "text": [
      "1567958053758985690561247427435932884798904200730843146\n"
     ]
    }
   ],
   "source": [
    "g = 3\n",
    "p = 2028857979862237691943174470742898169688801549038549581\n",
    "b = 5399928\n",
    "robert_pub_key = pow(g,b,p)\n",
    "print(robert_pub_key)"
   ]
  },
  {
   "cell_type": "code",
   "execution_count": 76,
   "metadata": {},
   "outputs": [
    {
     "name": "stdout",
     "output_type": "stream",
     "text": [
      "1149155915757011793513807516520377547315421094760288352\n"
     ]
    }
   ],
   "source": [
    "john_secret = pow(john_pub_key,b,p)\n",
    "print(john_secret)"
   ]
  },
  {
   "cell_type": "code",
   "execution_count": 77,
   "metadata": {},
   "outputs": [
    {
     "name": "stdout",
     "output_type": "stream",
     "text": [
      "1149155915757011793513807516520377547315421094760288352\n"
     ]
    }
   ],
   "source": [
    "robert_secret = pow(robert_pub_key,a,p)\n",
    "print(robert_secret)"
   ]
  },
  {
   "cell_type": "code",
   "execution_count": 78,
   "metadata": {},
   "outputs": [],
   "source": [
    "message = 1149155915763596984568311658058053247814715602575369297"
   ]
  },
  {
   "cell_type": "code",
   "execution_count": 79,
   "metadata": {},
   "outputs": [
    {
     "name": "stdout",
     "output_type": "stream",
     "text": [
      "The code is jj7341\n"
     ]
    }
   ],
   "source": [
    "full_key = robert_secret = john_secret\n",
    "answer = hex2string(dec2hex(message ^ full_key)) # xor with corresponding full key\n",
    "print(answer)"
   ]
  }
 ],
 "metadata": {
  "kernelspec": {
   "display_name": "Python 3",
   "language": "python",
   "name": "python3"
  },
  "language_info": {
   "codemirror_mode": {
    "name": "ipython",
    "version": 3
   },
   "file_extension": ".py",
   "mimetype": "text/x-python",
   "name": "python",
   "nbconvert_exporter": "python",
   "pygments_lexer": "ipython3",
   "version": "3.10.3 (tags/v3.10.3:a342a49, Mar 16 2022, 13:07:40) [MSC v.1929 64 bit (AMD64)]"
  },
  "orig_nbformat": 4,
  "vscode": {
   "interpreter": {
    "hash": "cd5cf57725ccfcef5b322c050a92cf18b95c5a8d07b0b4084b1ca6a929c7f729"
   }
  }
 },
 "nbformat": 4,
 "nbformat_minor": 2
}
