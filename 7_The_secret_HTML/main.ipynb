{
 "cells": [
  {
   "cell_type": "code",
   "execution_count": 1,
   "metadata": {},
   "outputs": [],
   "source": [
    "# Task description\n",
    "\"\"\" \n",
    "from Crypto.Util.Padding import pad\n",
    "\n",
    "BLOCK_SIZE = 8\n",
    "key = b'????????'\n",
    "f = open(\"secret.html\", \"rb\")\n",
    "plaintext = pad(f.read(),BLOCK_SIZE)\n",
    "message = b''\n",
    "\n",
    "key_it = 0\n",
    "for c in plaintext:\n",
    "    message += bytes([c ^ key[key_it]])\n",
    "    key_it = (key_it + 1) % BLOCK_SIZE\n",
    "\n",
    "import base64\n",
    "print(base64.b64encode(message))\n",
    "#\"\"\"\n",
    "\n",
    "# What we know\n",
    "# \n",
    "# The cipher begins with <html> and ends with </html>\n",
    "# we need to take the first and last 4 characters to get the 8 long key\n",
    "# \n",
    "# <hmtl>\n",
    "# DmMhH3\n",
    "# \n",
    "# </html>\n",
    "# 9WXk1Yw==\n",
    "#              01234567012345670123456701234567012345670123456701234567012345670123456701234567\n",
    "#              <html>\n",
    "\n",
    "ciphertext = b'DmMhH3YTjF3Yg0kWCsJaw4qET1ZZ1sAXCVYclApFV84fg01VCMJaw42DCRZIgkyVyEXNUEzC05GKxE8UHk9XR0qADFReT1dUC0BKQtNPV1CfDE4UGdUDlYnRTlGZxA1QgAVG1hxbRhgMSITXw1RRhx+SiALTT1dHSAKNEx5PV0dKhE9WXk1Yw=='"
   ]
  },
  {
   "cell_type": "code",
   "execution_count": 2,
   "metadata": {},
   "outputs": [],
   "source": [
    "# Helper functions\n",
    "\n",
    "def fillupbyte(s, padn = 8, padchar = '0', mode = 'l'):\n",
    "     n = len(s)\n",
    "     l = n\n",
    "     while(l % padn != 0):\n",
    "         l += 1\n",
    "     result = ''\n",
    "     j = 0\n",
    "     for i in range(l):\n",
    "         if(i < l-n):\n",
    "             if(mode == 'l'):\n",
    "                 result = padchar + result\n",
    "             else:\n",
    "                 result = result  + padchar\n",
    "         else:\n",
    "             if(mode == 'l'):\n",
    "                 result = result + s[j]\n",
    "                 j += 1\n",
    "             else:\n",
    "                 result = s[::-1][j] + result\n",
    "                 j += 1\n",
    "     return result\n",
    "\n",
    "def convertbin(m):\n",
    "    result = ''\n",
    "    for i in range(len(m)):\n",
    "        result += fillupbyte(bin(m[i])[2:], 8)\n",
    "    return result\n",
    "\n",
    "def arr_xor(arr1, arr2):\n",
    "    target_len = max(len(arr1),len(arr2))\n",
    "    result = ''\n",
    "    for i in range(target_len):\n",
    "        if arr1[i] == arr2[i]:\n",
    "            result += \"0\"\n",
    "        else:\n",
    "            result += \"1\"\n",
    "    return result\n",
    "\n",
    "def bin2ascii(binarr):\n",
    "    result = ''\n",
    "    for i in range(0,len(binarr),8):\n",
    "        chunk = binarr[i:i+8]\n",
    "        chunk_int = int(chunk,2)\n",
    "        result += chr(chunk_int)\n",
    "    return result"
   ]
  },
  {
   "cell_type": "code",
   "execution_count": 3,
   "metadata": {},
   "outputs": [],
   "source": [
    "# Getting the key\n",
    "\n",
    "begin = b'<html>' # We assume this is the beginning of the key. The key is a 8-bit array \n",
    "                  # that gets repeated. Every 8th bit is xored with the same bit of the key\n",
    "begin_bin = convertbin(begin) # Convert the beginning of the key to binary (to be able to xor)\n",
    "begin_secret = ciphertext[:len(begin)] # Get the corresponding encrypted text from the ciphertext\n",
    "begin_secret_bin = convertbin(begin_secret) # Convert the beginning of the cypher to binary\n",
    "\n",
    "# THE ONLY QUESTION IS WHAT IS END, AND END_SECRET. IT'S A GUESSING GAME AT THIS POINT\n",
    "_ = '</html>' \n",
    "end = b'</' # We assume this is the end of our key. As the beginning <html> \n",
    "            # is 6 characters long, and the block size is 8, we only need 2 characters. \n",
    "minus_ind = 0 # This is just a shift variable corresponding to how much padding was there on the message before encryption\n",
    "end_bin = convertbin(end) # Convert the secret key to binary\n",
    "end_secret = ciphertext[-len(end) - minus_ind : ] # Get the corresponging encrypted message\n",
    "end_secret_bin = convertbin(end_secret) # Convert corresponding encrypted secret to binary\n",
    "\n",
    "begin_key_bin = arr_xor(begin_bin, begin_secret_bin) # xor the beginning of the message with the beginning of the key\n",
    "end_key_bin = arr_xor(end_bin, end_secret_bin) # xor the beginning of the message with the end of the key\n",
    "\n",
    "key_bin = begin_key_bin + end_key_bin # To get the key we concatenate the beginning and the end\n",
    "\n",
    "key = b'' # Create an empty byte array for the key\n",
    "for i in range(0, len(key_bin), 8): # Iterate over the binary message in 8-blocks. \n",
    "                                    # 8bit=1byte corresponds to 1 single character in the encrypted message\n",
    "    chunk = key_bin[i:i+8] # Get the next 8 bytes to decrypt\n",
    "    key += bytes([int(chunk,2)]) # Convert to byte to integer integer"
   ]
  },
  {
   "cell_type": "code",
   "execution_count": 4,
   "metadata": {},
   "outputs": [
    {
     "name": "stdout",
     "output_type": "stream",
     "text": [
      "b'<html>XF\\x12C\\n\\\\C=jE;vsdS9pW,4c_\\x15~@J;S`fHLqT.=\\rcC=0D;HsdS93V;WcLCfxD\\x01@aKqH{QH0~N\\\\H9G0n\\x00]v=pS<Ck`p<eG;5{NuyOB.4zc`H5G?alAHTo@,i~_\\\\L0C\\x1fDoB\\x15eyp*m^HwDUJ\\x0f4kWLu*A\\x11DuQp<eZ+DrKau4B.5]NLH8E n\\x08\\\\S0<'\n"
     ]
    }
   ],
   "source": [
    "# Convert original message\n",
    "BLOCK_SIZE = 8\n",
    "result = b''\n",
    "key_it = 0\n",
    "\n",
    "for c in ciphertext: # As we have the key now we can iterate over the encrypted message in 1-blocks\n",
    "    result += bytes([c ^ key[key_it]]) # Xor the encrypted message with the corresponding key part\n",
    "    key_it = (key_it + 1) % BLOCK_SIZE # Get the next key to xor with. \n",
    "\n",
    "print(result)"
   ]
  }
 ],
 "metadata": {
  "kernelspec": {
   "display_name": "Python 3.10.3 64-bit",
   "language": "python",
   "name": "python3"
  },
  "language_info": {
   "codemirror_mode": {
    "name": "ipython",
    "version": 3
   },
   "file_extension": ".py",
   "mimetype": "text/x-python",
   "name": "python",
   "nbconvert_exporter": "python",
   "pygments_lexer": "ipython3",
   "version": "3.10.3 (tags/v3.10.3:a342a49, Mar 16 2022, 13:07:40) [MSC v.1929 64 bit (AMD64)]"
  },
  "orig_nbformat": 4,
  "vscode": {
   "interpreter": {
    "hash": "cd5cf57725ccfcef5b322c050a92cf18b95c5a8d07b0b4084b1ca6a929c7f729"
   }
  }
 },
 "nbformat": 4,
 "nbformat_minor": 2
}
